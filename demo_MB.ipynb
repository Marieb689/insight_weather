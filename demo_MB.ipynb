{
 "cells": [
  {
   "cell_type": "code",
   "execution_count": null,
   "id": "b04a1c67",
   "metadata": {},
   "outputs": [],
   "source": [
    "#!jupyter nbextension enable --py widgetsnbextension --sys-prefix\n",
    "#!jupyter serverextension enable voila --sys-prefix"
   ]
  },
  {
   "cell_type": "code",
   "execution_count": 1,
   "id": "987007f1",
   "metadata": {},
   "outputs": [],
   "source": [
    "import warnings \n",
    "warnings.filterwarnings('ignore')\n",
    "\n",
    "import ipywidgets as widgets\n",
    "from IPython.display import display, clear_output\n",
    "\n",
    "import os.path\n",
    "import pickle\n",
    "import matplotlib.pyplot as plt\n",
    "import matplotlib\n",
    "matplotlib.use('nbagg')\n",
    "\n",
    "import urllib.request\n",
    "\n",
    "import ssl\n",
    "ssl._create_default_https_context = ssl._create_unverified_context"
   ]
  },
  {
   "cell_type": "code",
   "execution_count": 2,
   "id": "475ff0e1",
   "metadata": {},
   "outputs": [],
   "source": [
    "choose_sol = widgets.Dropdown(\n",
    "                 options=['183', '235', '649'],\n",
    "                 value='183',\n",
    "                 description='Sol:',\n",
    "                 disabled=False,\n",
    "             )"
   ]
  },
  {
   "cell_type": "code",
   "execution_count": 3,
   "id": "ac5176ff",
   "metadata": {},
   "outputs": [],
   "source": [
    "button_send = widgets.Button(description='Obtenir la figure', tooltip='Send', style={'description_width':'initial'})\n",
    "\n",
    "output = widgets.Output()\n",
    "\n",
    "def on_button_clicked(event):\n",
    "    with output:\n",
    "        clear_output()\n",
    "        %matplotlib ipympl\n",
    "        #path = os.path.basename(\"https://namazu.unice.fr/INSIGHT/demo_insight/sol\"+choose_sol.value+\".p\")\n",
    "        #fig_sol = pickle.load(open(path, \"rb\"))\n",
    "        fig_sol = pickle.load(urllib.request.urlopen(\"https://namazu.unice.fr/INSIGHT/demo_insight/sol\"+choose_sol.value+\".p\"))\n",
    "        plt.show()\n",
    "            \n",
    "button_send.on_click(on_button_clicked)\n",
    "vbox_result = widgets.VBox([button_send, output])\n"
   ]
  },
  {
   "cell_type": "code",
   "execution_count": 4,
   "id": "e8ff4481",
   "metadata": {},
   "outputs": [],
   "source": [
    "text0 = widgets.HTML(value=\"<h1> Choisissez un sol: </h1>\")\n",
    "\n",
    "vbox_text = widgets.VBox([text0, choose_sol, vbox_result])"
   ]
  },
  {
   "cell_type": "code",
   "execution_count": 5,
   "id": "d1f76167",
   "metadata": {},
   "outputs": [
    {
     "data": {
      "application/vnd.jupyter.widget-view+json": {
       "model_id": "e8f4584f1e9c478aa9645f4c53c2e44d",
       "version_major": 2,
       "version_minor": 0
      },
      "text/plain": [
       "HBox(children=(VBox(children=(HTML(value='<h1> Choisissez un sol: </h1>'), Dropdown(description='Sol:', option…"
      ]
     },
     "metadata": {},
     "output_type": "display_data"
    }
   ],
   "source": [
    "page = widgets.HBox([vbox_text])\n",
    "display(page)"
   ]
  },
  {
   "cell_type": "code",
   "execution_count": null,
   "id": "c71a30de",
   "metadata": {},
   "outputs": [],
   "source": []
  },
  {
   "cell_type": "code",
   "execution_count": null,
   "id": "04ebc539",
   "metadata": {},
   "outputs": [],
   "source": []
  }
 ],
 "metadata": {
  "kernelspec": {
   "display_name": "Python 3",
   "language": "python",
   "name": "python3"
  },
  "language_info": {
   "codemirror_mode": {
    "name": "ipython",
    "version": 3
   },
   "file_extension": ".py",
   "mimetype": "text/x-python",
   "name": "python",
   "nbconvert_exporter": "python",
   "pygments_lexer": "ipython3",
   "version": "3.7.10"
  }
 },
 "nbformat": 4,
 "nbformat_minor": 5
}
